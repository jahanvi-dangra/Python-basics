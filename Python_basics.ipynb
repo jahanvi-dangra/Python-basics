{
  "cells": [
    {
      "cell_type": "markdown",
      "metadata": {
        "id": "FAC9ZbKy8Hng"
      },
      "source": [
        "**PYTHON** **BASICS**"
      ]
    },
    {
      "cell_type": "markdown",
      "metadata": {
        "id": "KtMjvnLQ9FoI"
      },
      "source": [
        "1. *What is python and why is it popular?*\n",
        "\n",
        " - Python is a interpreted programming language which is easy to\n",
        "understand and used in web development, data science and data analytics, robotics, machine learning, games, automation, etc.  \n",
        " - It was developed by Guido van Rossum in 1991.\n",
        "   It is popular because of its simple syntax and readability making the programs easier to understand.\n",
        "\n",
        "2. *What is an interpreter in python?*\n",
        "\n",
        " - An Interpreter is a program that reads and executes python code statement by statement, translating it into machine code at runtime. Here is a simple example to illustrate it:"
      ]
    },
    {
      "cell_type": "code",
      "execution_count": null,
      "metadata": {
        "colab": {
          "base_uri": "https://localhost:8080/"
        },
        "id": "3QavKnu98CWW",
        "outputId": "f5f55b00-e573-4b52-bd19-4314e964fdac"
      },
      "outputs": [
        {
          "name": "stdout",
          "output_type": "stream",
          "text": [
            "8\n"
          ]
        }
      ],
      "source": [
        "# Interpreter reads the code and execute it using the print() function.\n",
        "a = 2\n",
        "b = 6\n",
        "c = a+b\n",
        "print(c)"
      ]
    },
    {
      "cell_type": "markdown",
      "metadata": {
        "id": "HGN1-Tvx6fXh"
      },
      "source": [
        "3. *What are pre-defined keywords in python?*\n",
        "\n",
        " - Predefined keywords are a set of words that are reserved by the python language for its own use.\n",
        "\n",
        "  - These keywords are use to define syntax and structure of python programs (e.g. if, else, for, while, elif, True, False, etc.)\n",
        "\n",
        "4. *Can keywords be used as variables name?*\n",
        "\n",
        " - No, keywords cannot be used as identifiers ( i.e. variable names, function names, etc. )\n",
        "\n",
        "5. *What is mutability in python?*\n",
        "\n",
        " - Mutability means an object's value can be changed after it is created."
      ]
    },
    {
      "cell_type": "code",
      "execution_count": null,
      "metadata": {
        "colab": {
          "base_uri": "https://localhost:8080/"
        },
        "id": "HWmUOBgm6c1h",
        "outputId": "4bc90c4d-66f6-430a-df24-2c7267e9b4f3"
      },
      "outputs": [
        {
          "name": "stdout",
          "output_type": "stream",
          "text": [
            "paracetamol\n"
          ]
        }
      ],
      "source": [
        "# Example of mutability in python\n",
        "x = \"paracetamol\"\n",
        "y = x\n",
        "print(y)\n"
      ]
    },
    {
      "cell_type": "markdown",
      "metadata": {
        "id": "QAv0DW3Jh_y0"
      },
      "source": [
        "6. *Why are lists mutable, but tuples are immutable?*\n",
        "\n",
        " - Lists are mutable because memory layout of list is dynamic and flexible, while tuple's memory layout is fixed.\n",
        " - List syntax = [ 1, 2, 3, 4 ]\n",
        "   \n",
        "      Tuples syntax = ( 1, 2, 3, 4 )"
      ]
    },
    {
      "cell_type": "code",
      "execution_count": null,
      "metadata": {
        "colab": {
          "base_uri": "https://localhost:8080/"
        },
        "id": "kc5zEQTxh1-N",
        "outputId": "2d02aa6a-beb4-4baa-de96-314bf2de1bb2"
      },
      "outputs": [
        {
          "name": "stdout",
          "output_type": "stream",
          "text": [
            "[20, 22, 33, 44, 55, 66, 77]\n"
          ]
        }
      ],
      "source": [
        "# For better clearance here is an example:\n",
        "# Mutable list\n",
        "lst = [11, 22, 33, 44, 55, 66, 77]\n",
        "lst[0] = 20\n",
        "print(lst)"
      ]
    },
    {
      "cell_type": "code",
      "source": [
        "# immutable tuples\n",
        "my_tuple = (1, 2, 3, 4)\n",
        "my_tuple(0) = 20\n",
        "print(my_tuple) # If you will try to execute the code, it will show an \"error\"."
      ],
      "metadata": {
        "id": "rNjaUxsy3GWj"
      },
      "execution_count": null,
      "outputs": []
    },
    {
      "cell_type": "markdown",
      "metadata": {
        "id": "3kb3qplynYjv"
      },
      "source": [
        "7. *What is the difference between \"==\" and \"is\" operator in python?*\n",
        "\n",
        " - \"==\" is a comparison operator and it checks the equality of the values. (e.g., 2==2 -> True).\n",
        "\n",
        " - \"is\" is an identity operator and it checks identity of the variables that whether they are pointing to the same object in memory."
      ]
    },
    {
      "cell_type": "code",
      "execution_count": null,
      "metadata": {
        "colab": {
          "base_uri": "https://localhost:8080/"
        },
        "id": "zFUUW1anzYZR",
        "outputId": "14ff6d74-a9da-465e-e643-09d5c19817dc"
      },
      "outputs": [
        {
          "name": "stdout",
          "output_type": "stream",
          "text": [
            "True\n",
            "False\n"
          ]
        }
      ],
      "source": [
        "# For example\n",
        "x = [2, 4, 6, 8, 10]\n",
        "y = [2, 4, 6, 8, 10]\n",
        "print( x == y)\n",
        "print( x is y ) #False because they are two different objects in the memory."
      ]
    },
    {
      "cell_type": "markdown",
      "metadata": {
        "id": "VjCKac5jtRak"
      },
      "source": [
        "8. *What are logical operators in python?*\n",
        "\n",
        " - Logical operators in python is used to check multiple conditional statement whether it is True or False (e.g., and, or, not)\n",
        "\n",
        " - and = Both conditions must be true.\n",
        "    \n",
        "     or = at least one condition must be true.\n",
        "    \n",
        "     not = reverse the result.\n",
        "  "
      ]
    },
    {
      "cell_type": "code",
      "execution_count": null,
      "metadata": {
        "id": "86j7XqOrm69D"
      },
      "outputs": [],
      "source": [
        "# Example of logical operators:\n",
        "a = 2\n",
        "print(a < 10 and a > 1) #  both are True\n",
        "\n",
        "a = 2\n",
        "print(a < 10 or a > 2) # one condition is true\n",
        "\n",
        "a = 2\n",
        "print(not(a < 2)) # False\n"
      ]
    },
    {
      "cell_type": "markdown",
      "metadata": {
        "id": "yNc05j1Q4R4G"
      },
      "source": [
        "9. *What is typecasting in python?*\n",
        "\n",
        " - Typecasting means converting one data type into other, like turning a string into an integar using functions like, int( ),float( ), or str( ).\n",
        " - Typecasting is used to match function requirements and to convert user input(which is always string).\n",
        "  "
      ]
    },
    {
      "cell_type": "code",
      "execution_count": 1,
      "metadata": {
        "colab": {
          "base_uri": "https://localhost:8080/"
        },
        "id": "yXsw_Gbb2Eom",
        "outputId": "8e0e9259-94c2-418b-d3ba-e7f73746a550"
      },
      "outputs": [
        {
          "output_type": "stream",
          "name": "stdout",
          "text": [
            "20\n"
          ]
        },
        {
          "output_type": "execute_result",
          "data": {
            "text/plain": [
              "int"
            ]
          },
          "metadata": {},
          "execution_count": 1
        }
      ],
      "source": [
        "# For example\n",
        "age = \"20\"\n",
        "age = int(age)\n",
        "print(age)\n",
        "type(age)"
      ]
    },
    {
      "cell_type": "markdown",
      "metadata": {
        "id": "5Z8j0b3bd1pP"
      },
      "source": [
        "10. *What is the difference between implicit and explicit typecasting?*\n",
        "\n",
        " - Implicit typecasting when python understand the datatype and typecasting happens automatically.\n",
        "\n",
        " - Explicit typecasting means you mannually convert one datatype into another using functions such as int( ), float( ), str( ), etc."
      ]
    },
    {
      "cell_type": "code",
      "execution_count": 2,
      "metadata": {
        "colab": {
          "base_uri": "https://localhost:8080/"
        },
        "id": "eIGlFWJ_dxg5",
        "outputId": "dbd5105e-462e-4824-d70f-23963ea6a765"
      },
      "outputs": [
        {
          "output_type": "stream",
          "name": "stdout",
          "text": [
            "23.14\n",
            "2.0\n"
          ]
        }
      ],
      "source": [
        "# For example (Implicit typecasting)\n",
        "x = 20\n",
        "y = 3.14\n",
        "z = x + y\n",
        "print(z)\n",
        "\n",
        "# for example (explicit typecasting)\n",
        "x = 2\n",
        "y = float(x)\n",
        "print(y)"
      ]
    },
    {
      "cell_type": "markdown",
      "metadata": {
        "id": "dBUByWbA4Ev2"
      },
      "source": [
        "11. *What is the purpose of conditional statements in python* ?\n",
        "\n",
        " - The purpose of conditional statements in python is decision-making by executing different blocks of code depending on whether a condition is True or False."
      ]
    },
    {
      "cell_type": "code",
      "execution_count": null,
      "metadata": {
        "colab": {
          "base_uri": "https://localhost:8080/"
        },
        "id": "8OSluXmM331Q",
        "outputId": "8c7c66f4-5fce-4d17-c135-45c9fb015209"
      },
      "outputs": [
        {
          "name": "stdout",
          "output_type": "stream",
          "text": [
            "you can apply for Pan card\n"
          ]
        }
      ],
      "source": [
        "# for example\n",
        "a = 18\n",
        "if a >= 18:\n",
        "  print(\"you can apply for Pan card\")\n",
        "else:\n",
        "  print(\"you cannot apply\")"
      ]
    },
    {
      "cell_type": "markdown",
      "metadata": {
        "id": "RjRwJM4v5YA5"
      },
      "source": [
        "12. *How does the elif statement work?*\n",
        "\n",
        " - The elif stands for 'else-if'. It is used when you want to check more than one condition. If the first 'if' is false, python checks elif."
      ]
    },
    {
      "cell_type": "code",
      "execution_count": null,
      "metadata": {
        "colab": {
          "base_uri": "https://localhost:8080/"
        },
        "id": "kg-Lp_Mj5Wt1",
        "outputId": "8e808f7a-081d-4b92-ee95-5f9bc8744b86"
      },
      "outputs": [
        {
          "name": "stdout",
          "output_type": "stream",
          "text": [
            "I will go for hiking\n"
          ]
        }
      ],
      "source": [
        "# For example\n",
        "temp = 24\n",
        "if temp > 25:\n",
        "  print(\"I will not go for hiking\")\n",
        "elif temp <= 24:\n",
        "  print(\"I will go for hiking\")\n",
        "else:\n",
        "  print(\"I will think about it\")"
      ]
    },
    {
      "cell_type": "markdown",
      "metadata": {
        "id": "YHiNmb2o7JHM"
      },
      "source": [
        "13. *What is the difference between for and while loops?*\n",
        "\n",
        "   -  ***In for loop***, number of iterations are known and finite. Loop variable is handled automatically.\n",
        "    - Loops over a sequence or range.\n",
        "   \n",
        "  - ***In while loop***, number of iterations are unknown. Loop variable is controlled mannually.\n",
        "  - Loops until a condition become false.\n",
        "   "
      ]
    },
    {
      "cell_type": "code",
      "execution_count": 4,
      "metadata": {
        "colab": {
          "base_uri": "https://localhost:8080/"
        },
        "id": "5ermDf8W9naj",
        "outputId": "4ceb2c74-2671-4d81-f347-5906bc0077e8"
      },
      "outputs": [
        {
          "output_type": "stream",
          "name": "stdout",
          "text": [
            "0\n",
            "1\n",
            "2\n",
            "3\n",
            "4\n",
            "5\n"
          ]
        }
      ],
      "source": [
        "#for example {for loop}\n",
        "for i in range(6):\n",
        "  print(i)"
      ]
    },
    {
      "cell_type": "code",
      "execution_count": null,
      "metadata": {
        "colab": {
          "base_uri": "https://localhost:8080/"
        },
        "id": "hQq3-wy1FN28",
        "outputId": "7d9d4257-8a19-440d-c5fc-8dbbf1079f96"
      },
      "outputs": [
        {
          "name": "stdout",
          "output_type": "stream",
          "text": [
            "0\n",
            "1\n",
            "2\n",
            "3\n"
          ]
        }
      ],
      "source": [
        "#for example {while loop}\n",
        "i = 0\n",
        "while i < 4:\n",
        "  print(i)\n",
        "  i = i +1"
      ]
    },
    {
      "cell_type": "markdown",
      "metadata": {
        "id": "TKLCqEx0FjwS"
      },
      "source": [
        "14. *Describe a scenario where a while loop is more suitable in for loop*\n",
        "\n",
        " - scenario where while loop will be more suitable than for loop in case where we don't know how many readings will it take to execute the code.\n"
      ]
    },
    {
      "cell_type": "code",
      "execution_count": null,
      "metadata": {
        "id": "YYgw4_4IIXrT",
        "colab": {
          "base_uri": "https://localhost:8080/"
        },
        "outputId": "a1dc93a4-476d-42bc-9e38-2ee5b33db825"
      },
      "outputs": [
        {
          "name": "stdout",
          "output_type": "stream",
          "text": [
            "enter patient's temperature 98.6\n"
          ]
        }
      ],
      "source": [
        "#for example\n",
        "temperature = float(input(\"enter patient's temperature\"))\n",
        "while temperature >=100.0:\n",
        "  print(\"patient has a fever. please recheck after sometime\")\n",
        "  temperature = float(input(\"enter patient's temperature again\"))\n",
        "  print(\"patient's temperature is normal\")"
      ]
    },
    {
      "cell_type": "code",
      "source": [
        "print(\"patient's temperature is normal\")"
      ],
      "metadata": {
        "colab": {
          "base_uri": "https://localhost:8080/"
        },
        "id": "0Al5O7c_M0wC",
        "outputId": "d9ef1d94-9a0c-40b2-e129-acf2e54cd492"
      },
      "execution_count": null,
      "outputs": [
        {
          "output_type": "stream",
          "name": "stdout",
          "text": [
            "patient's temperature is normal\n"
          ]
        }
      ]
    },
    {
      "cell_type": "markdown",
      "source": [
        "**PRACRICAL** **QUESTIONS**"
      ],
      "metadata": {
        "id": "ti6BhGI5NHDk"
      }
    },
    {
      "cell_type": "markdown",
      "source": [
        "1. *Write a Python program to print \"Hello, World!\"*"
      ],
      "metadata": {
        "id": "Neg__H7QNO6Y"
      }
    },
    {
      "cell_type": "code",
      "source": [
        "print(\"Hello, World!\")"
      ],
      "metadata": {
        "colab": {
          "base_uri": "https://localhost:8080/"
        },
        "id": "FFF_nDDxNEWQ",
        "outputId": "2f06e095-9210-49b6-a726-d61ee8cfd07b"
      },
      "execution_count": null,
      "outputs": [
        {
          "output_type": "stream",
          "name": "stdout",
          "text": [
            "Hello, World!\n"
          ]
        }
      ]
    },
    {
      "cell_type": "markdown",
      "source": [
        "2. *Write a Python program that displays your name and age*."
      ],
      "metadata": {
        "id": "G92XwiXgNkXc"
      }
    },
    {
      "cell_type": "code",
      "source": [
        "name = \"Jahanvi Dangra\"\n",
        "age = \"22\"\n",
        "print(\"name:\", name)\n",
        "print(\"age:\", age)"
      ],
      "metadata": {
        "colab": {
          "base_uri": "https://localhost:8080/"
        },
        "id": "S00OHkAtNinJ",
        "outputId": "7c705da0-8464-48e2-862e-89bedb812c83"
      },
      "execution_count": null,
      "outputs": [
        {
          "output_type": "stream",
          "name": "stdout",
          "text": [
            "name: Jahanvi Dangra\n",
            "age: 22\n"
          ]
        }
      ]
    },
    {
      "cell_type": "markdown",
      "source": [
        "3.*Write code to print all the pre-defined keywords in Python using the keyword library*."
      ],
      "metadata": {
        "id": "zU_sEsZlObep"
      }
    },
    {
      "cell_type": "code",
      "source": [
        "import keyword\n",
        "keywords_list = keyword.kwlist\n",
        "print(\"pre-defined keywords in python:\")\n",
        "for kw in keywords_list:\n",
        "  print(kw)\n"
      ],
      "metadata": {
        "colab": {
          "base_uri": "https://localhost:8080/"
        },
        "id": "CTCOgYEROOHx",
        "outputId": "7cd0c16d-4f62-438a-8529-f4088edbc3b3"
      },
      "execution_count": null,
      "outputs": [
        {
          "output_type": "stream",
          "name": "stdout",
          "text": [
            "pre-defined keywords in python:\n",
            "False\n",
            "None\n",
            "True\n",
            "and\n",
            "as\n",
            "assert\n",
            "async\n",
            "await\n",
            "break\n",
            "class\n",
            "continue\n",
            "def\n",
            "del\n",
            "elif\n",
            "else\n",
            "except\n",
            "finally\n",
            "for\n",
            "from\n",
            "global\n",
            "if\n",
            "import\n",
            "in\n",
            "is\n",
            "lambda\n",
            "nonlocal\n",
            "not\n",
            "or\n",
            "pass\n",
            "raise\n",
            "return\n",
            "try\n",
            "while\n",
            "with\n",
            "yield\n"
          ]
        }
      ]
    },
    {
      "cell_type": "markdown",
      "source": [
        "4. *Write a program that checks if a given word is a Python keyword*.\n",
        "\n"
      ],
      "metadata": {
        "id": "ojXbOJB4RT5Q"
      }
    },
    {
      "cell_type": "code",
      "source": [
        "import keyword\n",
        "word = input(\"enter a word to check if it's a python keyword:\")\n",
        "if keyword.iskeyword(word):\n",
        "  print(\"f'{word}' is a python keyword\")\n",
        "else:\n",
        "  print(\"f'{word}' is not a python keyword\")"
      ],
      "metadata": {
        "id": "G4-xxvSrQRln",
        "colab": {
          "base_uri": "https://localhost:8080/"
        },
        "outputId": "560ff556-5989-4262-aeca-b4529c17ba45"
      },
      "execution_count": 3,
      "outputs": [
        {
          "output_type": "stream",
          "name": "stdout",
          "text": [
            "enter a word to check if it's a python keyword:elif\n",
            "f'{word}' is a python keyword\n"
          ]
        }
      ]
    },
    {
      "cell_type": "markdown",
      "source": [
        "5. *Create a list and tuple in Python and demonstrate how attempting to change  an element works differently for each*."
      ],
      "metadata": {
        "id": "iGdQbO4iwlcL"
      }
    },
    {
      "cell_type": "code",
      "source": [
        "# List in python (List is mutable and so if we will attempt to change an element it will execute the code easily.)\n",
        "lst = [100, \"fluconazole\", \"naloxone\", \"codiene\", 200]\n",
        "lst[1] = \"corticosteroid\"\n",
        "print(lst)"
      ],
      "metadata": {
        "colab": {
          "base_uri": "https://localhost:8080/"
        },
        "id": "BAYqqSXRwBPJ",
        "outputId": "2e407a79-00aa-4ca9-ab64-a0c30912d6b3"
      },
      "execution_count": 51,
      "outputs": [
        {
          "output_type": "stream",
          "name": "stdout",
          "text": [
            "[100, 'corticosteroid', 'naloxone', 'codiene', 200]\n"
          ]
        }
      ]
    },
    {
      "cell_type": "code",
      "source": [
        "# Tuple in python (Tuple is immuatble and if we try to change an element it will an error like this.)\n",
        "my_tuple = (111, 555, 999, 222)\n",
        "my_tuple(3) = 777\n",
        "print(my_tuple)"
      ],
      "metadata": {
        "colab": {
          "base_uri": "https://localhost:8080/",
          "height": 106
        },
        "id": "sCKNJLwqz4PP",
        "outputId": "5a24df9c-2d03-495c-9761-bf960885a898"
      },
      "execution_count": 5,
      "outputs": [
        {
          "output_type": "error",
          "ename": "SyntaxError",
          "evalue": "cannot assign to function call here. Maybe you meant '==' instead of '='? (<ipython-input-5-f087aea9c210>, line 3)",
          "traceback": [
            "\u001b[0;36m  File \u001b[0;32m\"<ipython-input-5-f087aea9c210>\"\u001b[0;36m, line \u001b[0;32m3\u001b[0m\n\u001b[0;31m    my_tuple(3) = 777\u001b[0m\n\u001b[0m    ^\u001b[0m\n\u001b[0;31mSyntaxError\u001b[0m\u001b[0;31m:\u001b[0m cannot assign to function call here. Maybe you meant '==' instead of '='?\n"
          ]
        }
      ]
    },
    {
      "cell_type": "markdown",
      "source": [
        "6.  *Write a function to demonstrate the behavior of mutable and immutable arguments*."
      ],
      "metadata": {
        "id": "jAjNSlMN1rgl"
      }
    },
    {
      "cell_type": "code",
      "source": [
        "# Immutable argument\n",
        "def change_number(x):\n",
        "    x = x + 5\n",
        "    print(\"before function x:\", x)\n",
        "\n",
        "a = 10\n",
        "print(\"before function a:\", a)\n",
        "change_number(a)\n",
        "print(\"after function a:\", a)\n"
      ],
      "metadata": {
        "colab": {
          "base_uri": "https://localhost:8080/"
        },
        "id": "SVQcLvu27LlF",
        "outputId": "2e132038-ac9e-4126-b326-2199dc233f8f"
      },
      "execution_count": 17,
      "outputs": [
        {
          "output_type": "stream",
          "name": "stdout",
          "text": [
            "before function a: 10\n",
            "before function x: 15\n",
            "after function a: 10\n"
          ]
        }
      ]
    },
    {
      "cell_type": "code",
      "source": [
        "# Mutable argument\n",
        "def change_list(my_list):\n",
        "    my_list.append(100)\n",
        "    print(\"Finside function list:\", my_list)\n",
        "\n",
        "b = [1, 2, 3]\n",
        "print(\"inside function list:\", b)\n",
        "change_list(b)\n",
        "print(\"after function list:\", b)"
      ],
      "metadata": {
        "colab": {
          "base_uri": "https://localhost:8080/"
        },
        "id": "tsUdFRWlB3rT",
        "outputId": "c78d25fd-f425-451d-9b58-c6a99d13161e"
      },
      "execution_count": 18,
      "outputs": [
        {
          "output_type": "stream",
          "name": "stdout",
          "text": [
            "inside function list: [1, 2, 3]\n",
            "Finside function list: [1, 2, 3, 100]\n",
            "after function list: [1, 2, 3, 100]\n"
          ]
        }
      ]
    },
    {
      "cell_type": "markdown",
      "source": [
        "7. *Write a program that performs basic arithmetic operations on two user-input numbers*."
      ],
      "metadata": {
        "id": "CRlWFISlCekV"
      }
    },
    {
      "cell_type": "code",
      "source": [
        "# Two user-input numbers are:\n",
        "x = 9\n",
        "y = 6\n",
        "\n",
        "print(\"addition:\", x + y)\n",
        "print(\"subtraction:\", x - y)\n",
        "print(\"multiplication:\", x * y)\n",
        "print(\"division:\", x / y)\n",
        "print(\"modulus:\", x % y)\n",
        "print(\"floor division:\", x // y)\n",
        "print(\"exponentiation:\", x ** y)\n",
        "\n"
      ],
      "metadata": {
        "colab": {
          "base_uri": "https://localhost:8080/"
        },
        "id": "hh8O6-2ECU2R",
        "outputId": "3ee03416-0e91-4ee7-8e81-b3a31a8ebb68"
      },
      "execution_count": 29,
      "outputs": [
        {
          "output_type": "stream",
          "name": "stdout",
          "text": [
            "addition: 15\n",
            "subtraction: 3\n",
            "multiplication: 54\n",
            "division: 1.5\n",
            "modulus: 3\n",
            "floor division: 1\n",
            "exponentiation: 531441\n"
          ]
        }
      ]
    },
    {
      "cell_type": "markdown",
      "source": [
        "8. *Write a program to demonstrate the use of logical operators*."
      ],
      "metadata": {
        "id": "65k_weM3UAVc"
      }
    },
    {
      "cell_type": "code",
      "source": [
        "# both condition are true\n",
        "a = 20\n",
        "print( a > 10 and a < 25)\n",
        "\n",
        "# one condition is true\n",
        "a = 20\n",
        "print( a > 10 or a < 20)\n",
        "\n",
        "# False: reverse the result\n",
        "a = 20\n",
        "print( not(a > 10))"
      ],
      "metadata": {
        "colab": {
          "base_uri": "https://localhost:8080/"
        },
        "id": "uPOxFX9DSwok",
        "outputId": "12b0d7db-fb82-4954-cb11-8f70d758b008"
      },
      "execution_count": 5,
      "outputs": [
        {
          "output_type": "stream",
          "name": "stdout",
          "text": [
            "True\n",
            "True\n",
            "False\n"
          ]
        }
      ]
    },
    {
      "cell_type": "markdown",
      "source": [
        "9. *Write a Python program to convert user input from string to integer, float, and boolean types*."
      ],
      "metadata": {
        "id": "2XUKG7LQWJOJ"
      }
    },
    {
      "cell_type": "code",
      "source": [
        "user_input = input(\"Enter name of medicine\")\n",
        "print(user_input)"
      ],
      "metadata": {
        "colab": {
          "base_uri": "https://localhost:8080/"
        },
        "id": "kO0e1z7QVSA7",
        "outputId": "ff447224-c567-4850-e249-db13f9466030"
      },
      "execution_count": 39,
      "outputs": [
        {
          "output_type": "stream",
          "name": "stdout",
          "text": [
            "Enter name of medicinechlorpromazine\n",
            "chlorpromazine\n"
          ]
        }
      ]
    },
    {
      "cell_type": "code",
      "source": [
        "type(user_input)"
      ],
      "metadata": {
        "colab": {
          "base_uri": "https://localhost:8080/"
        },
        "id": "lJjyunXbXvVI",
        "outputId": "ea6039e5-1347-4713-8dc8-e0c01259665d"
      },
      "execution_count": 40,
      "outputs": [
        {
          "output_type": "execute_result",
          "data": {
            "text/plain": [
              "str"
            ]
          },
          "metadata": {},
          "execution_count": 40
        }
      ]
    },
    {
      "cell_type": "code",
      "source": [
        "# To convert string into integar:\n",
        "user_input = int(input(\"Enter name of medicine\"))\n",
        "print(user_input)"
      ],
      "metadata": {
        "colab": {
          "base_uri": "https://localhost:8080/"
        },
        "id": "gXz2ZzlrW8o6",
        "outputId": "7145ccca-c2da-47e5-aa2c-6a6df90fe1c9"
      },
      "execution_count": 42,
      "outputs": [
        {
          "output_type": "stream",
          "name": "stdout",
          "text": [
            "Enter name of medicine500\n",
            "500\n"
          ]
        }
      ]
    },
    {
      "cell_type": "code",
      "source": [
        "type(user_input)"
      ],
      "metadata": {
        "colab": {
          "base_uri": "https://localhost:8080/"
        },
        "id": "kU9q9Z7jXoKa",
        "outputId": "964d262e-cd92-41d6-caa6-50cbc919cd53"
      },
      "execution_count": 43,
      "outputs": [
        {
          "output_type": "execute_result",
          "data": {
            "text/plain": [
              "int"
            ]
          },
          "metadata": {},
          "execution_count": 43
        }
      ]
    },
    {
      "cell_type": "code",
      "source": [
        "# To convert string into float:\n",
        "user_input = float(input(\"Enter name of medicine\"))\n",
        "print(user_input)"
      ],
      "metadata": {
        "colab": {
          "base_uri": "https://localhost:8080/"
        },
        "id": "AuPID2gsXuEa",
        "outputId": "fe1b723e-14d6-4b2c-e0d5-0c142b3c1203"
      },
      "execution_count": 44,
      "outputs": [
        {
          "output_type": "stream",
          "name": "stdout",
          "text": [
            "Enter name of medicine 50.5\n",
            "50.5\n"
          ]
        }
      ]
    },
    {
      "cell_type": "code",
      "source": [
        "type(user_input)"
      ],
      "metadata": {
        "colab": {
          "base_uri": "https://localhost:8080/"
        },
        "id": "Kfru3ZCRYOni",
        "outputId": "3a9fd678-5e8a-444b-960e-843e5c301805"
      },
      "execution_count": 45,
      "outputs": [
        {
          "output_type": "execute_result",
          "data": {
            "text/plain": [
              "float"
            ]
          },
          "metadata": {},
          "execution_count": 45
        }
      ]
    },
    {
      "cell_type": "code",
      "source": [
        "# To convert string into boolean:\n",
        "user_input = bool(input(\"Enter name of medicine\"))\n",
        "print(user_input)\n"
      ],
      "metadata": {
        "colab": {
          "base_uri": "https://localhost:8080/"
        },
        "id": "7oIk5EyLYUH6",
        "outputId": "e399a14f-5f44-45bf-f0b4-807db0d70a03"
      },
      "execution_count": 49,
      "outputs": [
        {
          "output_type": "stream",
          "name": "stdout",
          "text": [
            "Enter name of medicine 1\n",
            "True\n"
          ]
        }
      ]
    },
    {
      "cell_type": "code",
      "source": [
        "type(user_input)"
      ],
      "metadata": {
        "colab": {
          "base_uri": "https://localhost:8080/"
        },
        "id": "pII54yYoazjJ",
        "outputId": "e43ad1dc-b704-4226-b688-0a2e045e0246"
      },
      "execution_count": 50,
      "outputs": [
        {
          "output_type": "execute_result",
          "data": {
            "text/plain": [
              "bool"
            ]
          },
          "metadata": {},
          "execution_count": 50
        }
      ]
    },
    {
      "cell_type": "markdown",
      "source": [
        " 10. *Write code to demonstrate type casting with list elements*."
      ],
      "metadata": {
        "id": "-O1yjubEf8Xl"
      }
    },
    {
      "cell_type": "code",
      "source": [
        "# List of medicine prices as strings\n",
        "price_list_str = ['44.4','110.5', '90.00']\n",
        "print(\"original price list:\", price_list_str)\n"
      ],
      "metadata": {
        "colab": {
          "base_uri": "https://localhost:8080/"
        },
        "id": "TQ1bbIDlf624",
        "outputId": "3a0ddc1e-56a4-420d-9838-be8a5ebad722"
      },
      "execution_count": 8,
      "outputs": [
        {
          "output_type": "stream",
          "name": "stdout",
          "text": [
            "original price list: ['44.4', '110.5', '90.00']\n"
          ]
        }
      ]
    },
    {
      "cell_type": "code",
      "source": [
        "price_list_float = [float(price)for price in price_list_str]\n",
        "print(\"changed price list:\", price_list_float)"
      ],
      "metadata": {
        "colab": {
          "base_uri": "https://localhost:8080/"
        },
        "id": "wwiL4Q5-jrLH",
        "outputId": "6e741dbf-441e-44a9-eee7-e93e578a105f"
      },
      "execution_count": 9,
      "outputs": [
        {
          "output_type": "stream",
          "name": "stdout",
          "text": [
            "changed price list: [44.4, 110.5, 90.0]\n"
          ]
        }
      ]
    },
    {
      "cell_type": "code",
      "source": [
        "print(type(price_list_str[0]))\n",
        "print(type(price_list_float[0]))"
      ],
      "metadata": {
        "colab": {
          "base_uri": "https://localhost:8080/"
        },
        "id": "Y76mp3qgkXdu",
        "outputId": "489421d6-69ed-4d8a-8667-fb67c3741a86"
      },
      "execution_count": 11,
      "outputs": [
        {
          "output_type": "stream",
          "name": "stdout",
          "text": [
            "<class 'str'>\n",
            "<class 'float'>\n"
          ]
        }
      ]
    },
    {
      "cell_type": "markdown",
      "source": [
        "11. *Write a program that checks if a number is positive, negative, or zero*."
      ],
      "metadata": {
        "id": "I_ik-jWNpZza"
      }
    },
    {
      "cell_type": "code",
      "source": [
        "# This is done by conditionals in python\n",
        "daily_sales = int(input(\"enter daily sales quantity of levocetrizine\"))\n",
        "if daily_sales > 0:\n",
        "  print(\"well done! medicines sold today\", daily_sales)\n",
        "elif daily_sales == 0:\n",
        "  print(\"no sales today. check inventory or marketing\")\n",
        "else:\n",
        "  print(\"error! sales can't be negative\")\n",
        "\n",
        "# In this case, it shows a number is positive that's why medicines sold today.\n",
        "# If the daily sales quantity will be 0 then It will show no sales today."
      ],
      "metadata": {
        "colab": {
          "base_uri": "https://localhost:8080/"
        },
        "id": "V6Ad5K1xpWcu",
        "outputId": "705a52d8-fcc7-4830-af52-5b39b77e3dc3"
      },
      "execution_count": 77,
      "outputs": [
        {
          "output_type": "stream",
          "name": "stdout",
          "text": [
            "enter daily sales quantity of levocetrizine 40\n",
            "well done! medicines sold today 40\n"
          ]
        }
      ]
    },
    {
      "cell_type": "markdown",
      "source": [
        "12. *Write a for loop to print numbers from 1 to 10*."
      ],
      "metadata": {
        "id": "R1VkSG6KtIZw"
      }
    },
    {
      "cell_type": "code",
      "source": [
        "for i in range(1, 11):\n",
        "  print(i)"
      ],
      "metadata": {
        "colab": {
          "base_uri": "https://localhost:8080/"
        },
        "id": "Tk1n2l_jtmOD",
        "outputId": "10d56ef5-c14f-4c60-9a14-2411603021d4"
      },
      "execution_count": 82,
      "outputs": [
        {
          "output_type": "stream",
          "name": "stdout",
          "text": [
            "1\n",
            "2\n",
            "3\n",
            "4\n",
            "5\n",
            "6\n",
            "7\n",
            "8\n",
            "9\n",
            "10\n"
          ]
        }
      ]
    },
    {
      "cell_type": "markdown",
      "source": [
        "13. *Write a Python program to find the sum of all even numbers between 1 and 50*."
      ],
      "metadata": {
        "id": "A1G_aDIhuesY"
      }
    },
    {
      "cell_type": "code",
      "source": [
        "total_sum = 0\n",
        "for num in range(1, 51):\n",
        "  if num % 2 == 0:\n",
        "    total_sum += num\n",
        "    print(\"sum of all even numbers between 1 and 50:\",total_sum)"
      ],
      "metadata": {
        "colab": {
          "base_uri": "https://localhost:8080/"
        },
        "id": "Hu5PaPAkuE17",
        "outputId": "451938aa-ad81-415b-a8e3-94d6b77e99a1"
      },
      "execution_count": 86,
      "outputs": [
        {
          "output_type": "stream",
          "name": "stdout",
          "text": [
            "sum of all even numbers between 1 and 50: 2\n",
            "sum of all even numbers between 1 and 50: 6\n",
            "sum of all even numbers between 1 and 50: 12\n",
            "sum of all even numbers between 1 and 50: 20\n",
            "sum of all even numbers between 1 and 50: 30\n",
            "sum of all even numbers between 1 and 50: 42\n",
            "sum of all even numbers between 1 and 50: 56\n",
            "sum of all even numbers between 1 and 50: 72\n",
            "sum of all even numbers between 1 and 50: 90\n",
            "sum of all even numbers between 1 and 50: 110\n",
            "sum of all even numbers between 1 and 50: 132\n",
            "sum of all even numbers between 1 and 50: 156\n",
            "sum of all even numbers between 1 and 50: 182\n",
            "sum of all even numbers between 1 and 50: 210\n",
            "sum of all even numbers between 1 and 50: 240\n",
            "sum of all even numbers between 1 and 50: 272\n",
            "sum of all even numbers between 1 and 50: 306\n",
            "sum of all even numbers between 1 and 50: 342\n",
            "sum of all even numbers between 1 and 50: 380\n",
            "sum of all even numbers between 1 and 50: 420\n",
            "sum of all even numbers between 1 and 50: 462\n",
            "sum of all even numbers between 1 and 50: 506\n",
            "sum of all even numbers between 1 and 50: 552\n",
            "sum of all even numbers between 1 and 50: 600\n",
            "sum of all even numbers between 1 and 50: 650\n"
          ]
        }
      ]
    },
    {
      "cell_type": "markdown",
      "source": [
        "14. *Write a program to reverse a string using a while loop*."
      ],
      "metadata": {
        "id": "cLa-vvYNy8RL"
      }
    },
    {
      "cell_type": "code",
      "source": [
        "name = input(\"enter a string:\")\n",
        "reverse_name = \"\"                #Create an empty string to store the reversed result\n",
        "i = len(name)-1                  #Start from the last character\n",
        "while i >= 0:                    #Loop from end to start using while\n",
        "  reverse_name += name[i]        # add current character to result\n",
        "  i = i- 1\n",
        "  print(reverse_name)"
      ],
      "metadata": {
        "colab": {
          "base_uri": "https://localhost:8080/"
        },
        "id": "hYjVDLcWy7sv",
        "outputId": "69cdef9a-69e8-47bc-e432-836e3b6be062"
      },
      "execution_count": 92,
      "outputs": [
        {
          "output_type": "stream",
          "name": "stdout",
          "text": [
            "enter a string: guava\n",
            "a\n",
            "av\n",
            "ava\n",
            "avau\n",
            "avaug\n",
            "avaug \n"
          ]
        }
      ]
    },
    {
      "cell_type": "markdown",
      "source": [
        "15. *Write a Python program to calculate the factorial of a number provided by the user using a while loop*."
      ],
      "metadata": {
        "id": "RYmKatzL2D8t"
      }
    },
    {
      "cell_type": "code",
      "source": [
        "num = int(input(\"enter a number:\"))             # Take input from the user\n",
        "factorial = 1                                   # using while loop to calculate factorial\n",
        "i = 1\n",
        "while i<= num:\n",
        "  factorial = factorial * i\n",
        "  i = i+ 1\n",
        "  print(\"factorial of\", num, \"is:\", factorial)"
      ],
      "metadata": {
        "colab": {
          "base_uri": "https://localhost:8080/"
        },
        "id": "V58TWhCewaf6",
        "outputId": "02f91fa4-baee-4d20-f8b1-bfc276bca75f"
      },
      "execution_count": 95,
      "outputs": [
        {
          "output_type": "stream",
          "name": "stdout",
          "text": [
            "enter a number:6\n",
            "factorial of 6 is: 1\n",
            "factorial of 6 is: 2\n",
            "factorial of 6 is: 6\n",
            "factorial of 6 is: 24\n",
            "factorial of 6 is: 120\n",
            "factorial of 6 is: 720\n"
          ]
        }
      ]
    },
    {
      "cell_type": "markdown",
      "source": [
        "**THANK** **YOU**"
      ],
      "metadata": {
        "id": "gsxJ6v_wA4-p"
      }
    }
  ],
  "metadata": {
    "colab": {
      "provenance": []
    },
    "kernelspec": {
      "display_name": "Python 3",
      "name": "python3"
    },
    "language_info": {
      "name": "python"
    }
  },
  "nbformat": 4,
  "nbformat_minor": 0
}